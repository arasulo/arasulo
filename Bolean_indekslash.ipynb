{
  "nbformat": 4,
  "nbformat_minor": 0,
  "metadata": {
    "colab": {
      "provenance": [],
      "authorship_tag": "ABX9TyPAK23/eQuMKyeWFaUjuNs7",
      "include_colab_link": true
    },
    "kernelspec": {
      "name": "python3",
      "display_name": "Python 3"
    },
    "language_info": {
      "name": "python"
    }
  },
  "cells": [
    {
      "cell_type": "markdown",
      "metadata": {
        "id": "view-in-github",
        "colab_type": "text"
      },
      "source": [
        "<a href=\"https://colab.research.google.com/github/arasulo/arasulo/blob/main/Bolean_indekslash.ipynb\" target=\"_parent\"><img src=\"https://colab.research.google.com/assets/colab-badge.svg\" alt=\"Open In Colab\"/></a>"
      ]
    },
    {
      "cell_type": "code",
      "execution_count": 1,
      "metadata": {
        "id": "ls2sxb4vrAwt"
      },
      "outputs": [],
      "source": [
        "import numpy as np\n"
      ]
    },
    {
      "cell_type": "code",
      "source": [
        "names = np.array(['Hasan', 'Husan', 'Mirzabek', 'Elyor', 'Hasan', 'Javoxir', 'Elyor'])\n"
      ],
      "metadata": {
        "id": "jHxqgvz3rLAQ"
      },
      "execution_count": 8,
      "outputs": []
    },
    {
      "cell_type": "code",
      "source": [
        "data = np.random.randn (7, 4)\n",
        "data"
      ],
      "metadata": {
        "colab": {
          "base_uri": "https://localhost:8080/"
        },
        "id": "MLIR4e8Ctks3",
        "outputId": "75a085c7-aaec-4616-e4e4-40e74989a045"
      },
      "execution_count": 9,
      "outputs": [
        {
          "output_type": "execute_result",
          "data": {
            "text/plain": [
              "array([[ 0.20253616,  1.65547602,  0.62553916,  0.12100184],\n",
              "       [ 0.38005663,  0.71606429,  0.73144474,  1.58502893],\n",
              "       [ 0.6164023 ,  0.55275653,  0.14077322,  0.97602014],\n",
              "       [-1.19930421, -0.52934677, -0.41657463, -0.57377711],\n",
              "       [ 0.73513988,  0.35892349,  1.7969976 , -0.25398094],\n",
              "       [ 0.43140327,  1.07638148, -0.89801104, -2.97617451],\n",
              "       [ 0.50152535, -1.06255397,  0.37606069,  0.38831625]])"
            ]
          },
          "metadata": {},
          "execution_count": 9
        }
      ]
    },
    {
      "cell_type": "code",
      "source": [
        "names == 'Hasan'"
      ],
      "metadata": {
        "colab": {
          "base_uri": "https://localhost:8080/"
        },
        "id": "EJ8uzQsPt3Jv",
        "outputId": "3b623947-2ac9-457c-8503-419d4ad797e1"
      },
      "execution_count": 10,
      "outputs": [
        {
          "output_type": "execute_result",
          "data": {
            "text/plain": [
              "array([ True, False, False, False,  True, False, False])"
            ]
          },
          "metadata": {},
          "execution_count": 10
        }
      ]
    },
    {
      "cell_type": "code",
      "source": [
        "data[names == 'Husan']"
      ],
      "metadata": {
        "colab": {
          "base_uri": "https://localhost:8080/"
        },
        "id": "23zu9OOAuMfW",
        "outputId": "52f17a99-146b-4793-e014-d8deb2cc81c1"
      },
      "execution_count": 19,
      "outputs": [
        {
          "output_type": "execute_result",
          "data": {
            "text/plain": [
              "array([[0.38005663, 0.71606429, 0.73144474, 1.58502893]])"
            ]
          },
          "metadata": {},
          "execution_count": 19
        }
      ]
    },
    {
      "cell_type": "markdown",
      "source": [
        "data[names == 'Elyor']"
      ],
      "metadata": {
        "id": "5JxLh8xIv4q6"
      }
    },
    {
      "cell_type": "code",
      "source": [
        "data[names == 'Mirzabek']"
      ],
      "metadata": {
        "colab": {
          "base_uri": "https://localhost:8080/"
        },
        "id": "sMuh6Va_wEZg",
        "outputId": "5dec1beb-f34b-41e3-aeb9-e2792e59c942"
      },
      "execution_count": 21,
      "outputs": [
        {
          "output_type": "execute_result",
          "data": {
            "text/plain": [
              "array([[0.6164023 , 0.55275653, 0.14077322, 0.97602014]])"
            ]
          },
          "metadata": {},
          "execution_count": 21
        }
      ]
    },
    {
      "cell_type": "code",
      "source": [
        "data[names == 'Javoxir']"
      ],
      "metadata": {
        "colab": {
          "base_uri": "https://localhost:8080/"
        },
        "id": "kKnmhKr1wO5i",
        "outputId": "8dd72888-6d06-457b-d7c6-3bc6f298a01d"
      },
      "execution_count": 23,
      "outputs": [
        {
          "output_type": "execute_result",
          "data": {
            "text/plain": [
              "array([[ 0.43140327,  1.07638148, -0.89801104, -2.97617451]])"
            ]
          },
          "metadata": {},
          "execution_count": 23
        }
      ]
    },
    {
      "cell_type": "code",
      "source": [
        "data[names != 'Hasan']# Hasandan tashqari barcha malumotlarni ajratib olish"
      ],
      "metadata": {
        "colab": {
          "base_uri": "https://localhost:8080/"
        },
        "id": "ncBANomIx-Yf",
        "outputId": "7cd29bb5-0535-40ed-fd95-a27a6d3027b7"
      },
      "execution_count": 24,
      "outputs": [
        {
          "output_type": "execute_result",
          "data": {
            "text/plain": [
              "array([[ 0.38005663,  0.71606429,  0.73144474,  1.58502893],\n",
              "       [ 0.6164023 ,  0.55275653,  0.14077322,  0.97602014],\n",
              "       [-1.19930421, -0.52934677, -0.41657463, -0.57377711],\n",
              "       [ 0.43140327,  1.07638148, -0.89801104, -2.97617451],\n",
              "       [ 0.50152535, -1.06255397,  0.37606069,  0.38831625]])"
            ]
          },
          "metadata": {},
          "execution_count": 24
        }
      ]
    },
    {
      "cell_type": "code",
      "source": [
        "print (names)\n",
        "print (data)"
      ],
      "metadata": {
        "colab": {
          "base_uri": "https://localhost:8080/"
        },
        "id": "TP8hHwKdyiy_",
        "outputId": "228634af-96c0-4189-aa64-553f667adad7"
      },
      "execution_count": 25,
      "outputs": [
        {
          "output_type": "stream",
          "name": "stdout",
          "text": [
            "['Hasan' 'Husan' 'Mirzabek' 'Elyor' 'Hasan' 'Javoxir' 'Elyor']\n",
            "[[ 0.20253616  1.65547602  0.62553916  0.12100184]\n",
            " [ 0.38005663  0.71606429  0.73144474  1.58502893]\n",
            " [ 0.6164023   0.55275653  0.14077322  0.97602014]\n",
            " [-1.19930421 -0.52934677 -0.41657463 -0.57377711]\n",
            " [ 0.73513988  0.35892349  1.7969976  -0.25398094]\n",
            " [ 0.43140327  1.07638148 -0.89801104 -2.97617451]\n",
            " [ 0.50152535 -1.06255397  0.37606069  0.38831625]]\n"
          ]
        }
      ]
    },
    {
      "cell_type": "code",
      "source": [
        "data[~(names == 'Hasan')]# yuqoridagi cell kabi bir xil natijani beradi"
      ],
      "metadata": {
        "colab": {
          "base_uri": "https://localhost:8080/"
        },
        "id": "7nPFOlIkubel",
        "outputId": "668879e2-4e36-4afe-a63f-feeaeaceed78"
      },
      "execution_count": 26,
      "outputs": [
        {
          "output_type": "execute_result",
          "data": {
            "text/plain": [
              "array([[ 0.38005663,  0.71606429,  0.73144474,  1.58502893],\n",
              "       [ 0.6164023 ,  0.55275653,  0.14077322,  0.97602014],\n",
              "       [-1.19930421, -0.52934677, -0.41657463, -0.57377711],\n",
              "       [ 0.43140327,  1.07638148, -0.89801104, -2.97617451],\n",
              "       [ 0.50152535, -1.06255397,  0.37606069,  0.38831625]])"
            ]
          },
          "metadata": {},
          "execution_count": 26
        }
      ]
    },
    {
      "cell_type": "code",
      "source": [
        "mask = (names == 'Hasan') | (names == 'Husan') # \" | \" or yoki\n",
        "mask"
      ],
      "metadata": {
        "colab": {
          "base_uri": "https://localhost:8080/"
        },
        "id": "moT9UKf4zrZN",
        "outputId": "4561cd62-756f-4b9c-d791-b0e185738a79"
      },
      "execution_count": 27,
      "outputs": [
        {
          "output_type": "execute_result",
          "data": {
            "text/plain": [
              "array([ True,  True, False, False,  True, False, False])"
            ]
          },
          "metadata": {},
          "execution_count": 27
        }
      ]
    },
    {
      "cell_type": "code",
      "source": [
        "data [mask]# Hasan va Husanlarga tegishli ma'lumotlarni ajratib oladi MB"
      ],
      "metadata": {
        "colab": {
          "base_uri": "https://localhost:8080/"
        },
        "id": "OU89k9Si0Z9T",
        "outputId": "e52f1c77-229b-488c-a58e-dbf14de7d893"
      },
      "execution_count": 28,
      "outputs": [
        {
          "output_type": "execute_result",
          "data": {
            "text/plain": [
              "array([[ 0.20253616,  1.65547602,  0.62553916,  0.12100184],\n",
              "       [ 0.38005663,  0.71606429,  0.73144474,  1.58502893],\n",
              "       [ 0.73513988,  0.35892349,  1.7969976 , -0.25398094]])"
            ]
          },
          "metadata": {},
          "execution_count": 28
        }
      ]
    },
    {
      "cell_type": "code",
      "source": [
        "data"
      ],
      "metadata": {
        "colab": {
          "base_uri": "https://localhost:8080/"
        },
        "id": "YrJ-1L3e06Oa",
        "outputId": "e3dd7d3e-d96e-44c1-894d-94b0814b67b6"
      },
      "execution_count": 29,
      "outputs": [
        {
          "output_type": "execute_result",
          "data": {
            "text/plain": [
              "array([[ 0.20253616,  1.65547602,  0.62553916,  0.12100184],\n",
              "       [ 0.38005663,  0.71606429,  0.73144474,  1.58502893],\n",
              "       [ 0.6164023 ,  0.55275653,  0.14077322,  0.97602014],\n",
              "       [-1.19930421, -0.52934677, -0.41657463, -0.57377711],\n",
              "       [ 0.73513988,  0.35892349,  1.7969976 , -0.25398094],\n",
              "       [ 0.43140327,  1.07638148, -0.89801104, -2.97617451],\n",
              "       [ 0.50152535, -1.06255397,  0.37606069,  0.38831625]])"
            ]
          },
          "metadata": {},
          "execution_count": 29
        }
      ]
    },
    {
      "cell_type": "code",
      "source": [
        "data[data<0] =0\n",
        "data\n"
      ],
      "metadata": {
        "colab": {
          "base_uri": "https://localhost:8080/"
        },
        "id": "nT8U7WxA1M2r",
        "outputId": "6a9e15a5-0de8-465d-e477-af71e5cc53b3"
      },
      "execution_count": 32,
      "outputs": [
        {
          "output_type": "execute_result",
          "data": {
            "text/plain": [
              "array([[0.20253616, 1.65547602, 0.62553916, 0.12100184],\n",
              "       [0.38005663, 0.71606429, 0.73144474, 1.58502893],\n",
              "       [0.6164023 , 0.55275653, 0.14077322, 0.97602014],\n",
              "       [0.        , 0.        , 0.        , 0.        ],\n",
              "       [0.73513988, 0.35892349, 1.7969976 , 0.        ],\n",
              "       [0.43140327, 1.07638148, 0.        , 0.        ],\n",
              "       [0.50152535, 0.        , 0.37606069, 0.38831625]])"
            ]
          },
          "metadata": {},
          "execution_count": 32
        }
      ]
    },
    {
      "cell_type": "code",
      "source": [],
      "metadata": {
        "id": "Lcjp3YIo10Pw"
      },
      "execution_count": null,
      "outputs": []
    },
    {
      "cell_type": "code",
      "source": [],
      "metadata": {
        "id": "Vtxgn0EG1dOj"
      },
      "execution_count": null,
      "outputs": []
    }
  ]
}