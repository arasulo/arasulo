{
  "nbformat": 4,
  "nbformat_minor": 0,
  "metadata": {
    "colab": {
      "provenance": [],
      "authorship_tag": "ABX9TyP9z8ke69ZmZ/b6hV88qvdM",
      "include_colab_link": true
    },
    "kernelspec": {
      "name": "python3",
      "display_name": "Python 3"
    },
    "language_info": {
      "name": "python"
    },
    "gpuClass": "standard"
  },
  "cells": [
    {
      "cell_type": "markdown",
      "metadata": {
        "id": "view-in-github",
        "colab_type": "text"
      },
      "source": [
        "<a href=\"https://colab.research.google.com/github/arasulo/arasulo/blob/main/birinchi_nbk.ipynb\" target=\"_parent\"><img src=\"https://colab.research.google.com/assets/colab-badge.svg\" alt=\"Open In Colab\"/></a>"
      ]
    },
    {
      "cell_type": "markdown",
      "source": [],
      "metadata": {
        "id": "R_LiBgTW0SvM"
      }
    },
    {
      "cell_type": "code",
      "source": [
        "# 3D array uch o'lchamli massivlar"
      ],
      "metadata": {
        "id": "5_8FjeZyPQim"
      },
      "execution_count": null,
      "outputs": []
    },
    {
      "cell_type": "code",
      "source": [
        "import numpy as np"
      ],
      "metadata": {
        "id": "T1vZe4xrazYY"
      },
      "execution_count": 8,
      "outputs": []
    },
    {
      "cell_type": "code",
      "source": [
        "arr3d = np.array([[[ 0, 1, 2],\n",
        "                  [ 3, 4, 5],\n",
        "                  [ 6, 7, 8]],\n",
        "\n",
        "                 [[ 9, 10, 11],\n",
        "                  [12, 13, 14],\n",
        "                  [15, 16, 17]],\n",
        "\n",
        "                 [[18, 19, 20],\n",
        "                  [21, 22, 23],\n",
        "                  [24, 25, 26]]])\n",
        "arr3d                  "
      ],
      "metadata": {
        "id": "R5OpEVBFPw0f",
        "outputId": "0c8e4515-81cd-4fb1-8d7d-fc759c861bca",
        "colab": {
          "base_uri": "https://localhost:8080/"
        }
      },
      "execution_count": 10,
      "outputs": [
        {
          "output_type": "execute_result",
          "data": {
            "text/plain": [
              "array([[[ 0,  1,  2],\n",
              "        [ 3,  4,  5],\n",
              "        [ 6,  7,  8]],\n",
              "\n",
              "       [[ 9, 10, 11],\n",
              "        [12, 13, 14],\n",
              "        [15, 16, 17]],\n",
              "\n",
              "       [[18, 19, 20],\n",
              "        [21, 22, 23],\n",
              "        [24, 25, 26]]])"
            ]
          },
          "metadata": {},
          "execution_count": 10
        }
      ]
    },
    {
      "cell_type": "code",
      "source": [
        "arr3d[0] [1, 2]"
      ],
      "metadata": {
        "id": "-jWdv0-1ZFcJ",
        "outputId": "c10bc4b1-2338-491e-aa77-072aadc5e623",
        "colab": {
          "base_uri": "https://localhost:8080/"
        }
      },
      "execution_count": 14,
      "outputs": [
        {
          "output_type": "execute_result",
          "data": {
            "text/plain": [
              "5"
            ]
          },
          "metadata": {},
          "execution_count": 14
        }
      ]
    },
    {
      "cell_type": "code",
      "source": [
        "arr3d[1] [2, 0]"
      ],
      "metadata": {
        "id": "bckeEC-2dZtX",
        "outputId": "84e5444f-2680-477f-f94f-6e365dd3a64a",
        "colab": {
          "base_uri": "https://localhost:8080/"
        }
      },
      "execution_count": 17,
      "outputs": [
        {
          "output_type": "execute_result",
          "data": {
            "text/plain": [
              "15"
            ]
          },
          "metadata": {},
          "execution_count": 17
        }
      ]
    },
    {
      "cell_type": "code",
      "source": [
        "arr3d[2] [1 :] "
      ],
      "metadata": {
        "id": "F8HHE8e5emaE",
        "outputId": "6c39ef5d-5ace-40e9-ca8c-93f8515155b2",
        "colab": {
          "base_uri": "https://localhost:8080/"
        }
      },
      "execution_count": 18,
      "outputs": [
        {
          "output_type": "execute_result",
          "data": {
            "text/plain": [
              "array([[21, 22, 23],\n",
              "       [24, 25, 26]])"
            ]
          },
          "metadata": {},
          "execution_count": 18
        }
      ]
    },
    {
      "cell_type": "code",
      "source": [
        "print ( \" salom, mohirdev \" )"
      ],
      "metadata": {
        "colab": {
          "base_uri": "https://localhost:8080/"
        },
        "id": "vswFHu9E0sjT",
        "outputId": "e78b268f-d8f6-43c8-d9c4-c8fccdf480d6"
      },
      "execution_count": null,
      "outputs": [
        {
          "output_type": "stream",
          "name": "stdout",
          "text": [
            " salom, mohirdev \n"
          ]
        }
      ]
    },
    {
      "cell_type": "markdown",
      "source": [
        "#*Heading*"
      ],
      "metadata": {
        "id": "xmtCdUKJ1W4s"
      }
    },
    {
      "cell_type": "code",
      "source": [
        "import numpy as np\n",
        "import pandas as pd\n",
        "import sklearn\n",
        "import matplotlib.pyplot as plt\n",
        "import seaborn as sns\n",
        "import torch\n",
        "import tensorflow as tf\n",
        "import keras"
      ],
      "metadata": {
        "id": "1_RZ4NJQ2gxj"
      },
      "execution_count": 1,
      "outputs": []
    },
    {
      "cell_type": "code",
      "source": [
        "import torch\n",
        "torch.cuda.is_available()"
      ],
      "metadata": {
        "colab": {
          "base_uri": "https://localhost:8080/"
        },
        "id": "X_Ran42K7e37",
        "outputId": "017ddee1-d630-437a-a4af-c1b22b165b82"
      },
      "execution_count": null,
      "outputs": [
        {
          "output_type": "execute_result",
          "data": {
            "text/plain": [
              "True"
            ]
          },
          "metadata": {},
          "execution_count": 1
        }
      ]
    }
  ]
}