{
  "nbformat": 4,
  "nbformat_minor": 0,
  "metadata": {
    "colab": {
      "provenance": [],
      "authorship_tag": "ABX9TyOd3n3lk28LaWqTUTbOXUa0",
      "include_colab_link": true
    },
    "kernelspec": {
      "name": "python3",
      "display_name": "Python 3"
    },
    "language_info": {
      "name": "python"
    }
  },
  "cells": [
    {
      "cell_type": "markdown",
      "metadata": {
        "id": "view-in-github",
        "colab_type": "text"
      },
      "source": [
        "<a href=\"https://colab.research.google.com/github/arasulo/arasulo/blob/main/Pyhton1_dars.ipynb\" target=\"_parent\"><img src=\"https://colab.research.google.com/assets/colab-badge.svg\" alt=\"Open In Colab\"/></a>"
      ]
    },
    {
      "cell_type": "code",
      "execution_count": null,
      "metadata": {
        "colab": {
          "base_uri": "https://localhost:8080/"
        },
        "id": "1ByrsbwMLApC",
        "outputId": "c8aded3b-b7c4-47da-a7dd-03f9d517f8b3"
      },
      "outputs": [
        {
          "output_type": "stream",
          "name": "stdout",
          "text": [
            "['audi', 'bmw', 'general motors', 'mersedes bens', 'tesla']\n"
          ]
        }
      ],
      "source": [
        "cars = ['bmw', 'mersedes bens','audi', 'tesla','general motors']\n",
        "cars.sort ()\n",
        "print (cars)"
      ]
    },
    {
      "cell_type": "code",
      "source": [
        "cars = ['tesla',' audi ', 'gm','Mersedes bens','bmw']\n",
        "cars.sort ()\n",
        "print (cars)"
      ],
      "metadata": {
        "colab": {
          "base_uri": "https://localhost:8080/"
        },
        "id": "dmfqVvFrOXr0",
        "outputId": "f7bd168a-fe7c-4bae-d0a7-ebf8dffa114a"
      },
      "execution_count": null,
      "outputs": [
        {
          "output_type": "stream",
          "name": "stdout",
          "text": [
            "[' audi ', 'Mersedes bens', 'bmw', 'gm', 'tesla']\n"
          ]
        }
      ]
    },
    {
      "cell_type": "code",
      "source": [
        "sonlar = list (renge(  0,10))\n",
        "print(sonlar)"
      ],
      "metadata": {
        "id": "bjoq0zspQpK-"
      },
      "execution_count": null,
      "outputs": []
    },
    {
      "cell_type": "code",
      "source": [
        "print (cars[2:])"
      ],
      "metadata": {
        "colab": {
          "base_uri": "https://localhost:8080/"
        },
        "id": "efuiRsoeTtSK",
        "outputId": "b1555986-2f56-4d6e-a322-c433a99a6eaf"
      },
      "execution_count": null,
      "outputs": [
        {
          "output_type": "stream",
          "name": "stdout",
          "text": [
            "['bmw', 'gm', 'tesla']\n"
          ]
        }
      ]
    },
    {
      "cell_type": "code",
      "source": [
        "mexmons = ['Ali','Vali','Xasan','Aziz']\n",
        "mexmonlar = ['Ali','Vali', 'Xasan','Aziz']\n",
        "for mexmons in mexmonlar:\n",
        "    print (f\"Hurmatli {mexmons},sizlarni 20 Dekabr kuni 'Sharq' restoraniga naxorgi oshga taklif qilamiz\")\n",
        "    print (\" Hurmat bilan, Temurovlar oilasi\")"
      ],
      "metadata": {
        "id": "nKbDnOGWx6mi",
        "colab": {
          "base_uri": "https://localhost:8080/"
        },
        "outputId": "5b954677-af57-4e4e-ee57-3f6aa23c23e0"
      },
      "execution_count": 20,
      "outputs": [
        {
          "output_type": "stream",
          "name": "stdout",
          "text": [
            "Hurmatli Ali,sizlarni 20 Dekabr kuni 'Sharq' restoraniga naxorgi oshga taklif qilamiz\n",
            " Hurmat bilan, Temurovlar oilasi\n",
            "Hurmatli Vali,sizlarni 20 Dekabr kuni 'Sharq' restoraniga naxorgi oshga taklif qilamiz\n",
            " Hurmat bilan, Temurovlar oilasi\n",
            "Hurmatli Xasan,sizlarni 20 Dekabr kuni 'Sharq' restoraniga naxorgi oshga taklif qilamiz\n",
            " Hurmat bilan, Temurovlar oilasi\n",
            "Hurmatli Aziz,sizlarni 20 Dekabr kuni 'Sharq' restoraniga naxorgi oshga taklif qilamiz\n",
            " Hurmat bilan, Temurovlar oilasi\n"
          ]
        }
      ]
    },
    {
      "cell_type": "code",
      "source": [
        "sonlar= list ((\"range(1,11) 'numbers' = list(range(1,11\"))\n",
        "for son in sonlar:\n",
        "              print (F\"{son} ning kvadrati {son\\*\\*2} ga teng\")"
      ],
      "metadata": {
        "colab": {
          "base_uri": "https://localhost:8080/",
          "height": 140
        },
        "id": "IfPPMvQM5quL",
        "outputId": "e15d4f05-28b5-4366-8953-0094b9c7dad7"
      },
      "execution_count": 35,
      "outputs": [
        {
          "output_type": "error",
          "ename": "SyntaxError",
          "evalue": "ignored",
          "traceback": [
            "\u001b[0;36m  File \u001b[0;32m\"<ipython-input-35-a3a34c3dd2d8>\"\u001b[0;36m, line \u001b[0;32m3\u001b[0m\n\u001b[0;31m    print (F\"{son} ning kvadrati {son\\*\\*2} ga teng\")\u001b[0m\n\u001b[0m                                                    ^\u001b[0m\n\u001b[0;31mSyntaxError\u001b[0m\u001b[0;31m:\u001b[0m f-string expression part cannot include a backslash\n"
          ]
        }
      ]
    }
  ]
}